{
  "nbformat": 4,
  "nbformat_minor": 0,
  "metadata": {
    "colab": {
      "name": "String Operation(Assignment).ipynb",
      "provenance": [],
      "authorship_tag": "ABX9TyNGCIFNdAh4Fjb0qL5uQPuV",
      "include_colab_link": true
    },
    "kernelspec": {
      "name": "python3",
      "display_name": "Python 3"
    }
  },
  "cells": [
    {
      "cell_type": "markdown",
      "metadata": {
        "id": "view-in-github",
        "colab_type": "text"
      },
      "source": [
        "<a href=\"https://colab.research.google.com/github/jchaudhary559790/Readcsv/blob/master/String_Operation(Assignment).ipynb\" target=\"_parent\"><img src=\"https://colab.research.google.com/assets/colab-badge.svg\" alt=\"Open In Colab\"/></a>"
      ]
    },
    {
      "cell_type": "code",
      "metadata": {
        "id": "LQmNnbBS9vmG",
        "colab_type": "code",
        "colab": {}
      },
      "source": [
        "##1. Input a string and output a substring made of first two characters and last two character"
      ],
      "execution_count": 0,
      "outputs": []
    },
    {
      "cell_type": "code",
      "metadata": {
        "id": "pYE-ERwC-Doe",
        "colab_type": "code",
        "outputId": "946d6244-c4cc-4762-becf-2fd16a052a5c",
        "colab": {
          "base_uri": "https://localhost:8080/",
          "height": 71
        }
      },
      "source": [
        "st=input(\"Enter the string\")\n",
        "st1=st[:2]\n",
        "st2=st[len(st)-2:len(st)]\n",
        "print(\"The first two letter of string is\",st1)\n",
        "print(\"The last two letter of string is\",st2)"
      ],
      "execution_count": 0,
      "outputs": [
        {
          "output_type": "stream",
          "text": [
            "Enter the stringBabita Chaudhary\n",
            "The first two letter of string is Ba\n",
            "The last two letter of string is ry\n"
          ],
          "name": "stdout"
        }
      ]
    },
    {
      "cell_type": "code",
      "metadata": {
        "id": "o7XOcbBo-Url",
        "colab_type": "code",
        "colab": {}
      },
      "source": [
        "## 2. Take a sample strings,check the last character of the string, if it is 'ly',change it with 'ing' and vice versa"
      ],
      "execution_count": 0,
      "outputs": []
    },
    {
      "cell_type": "code",
      "metadata": {
        "id": "zCVLkhqMCBqq",
        "colab_type": "code",
        "outputId": "2e2c2734-6c3a-4c23-a414-f388c7029715",
        "colab": {
          "base_uri": "https://localhost:8080/",
          "height": 71
        }
      },
      "source": [
        "strg=input(\"Enter the string\")\n",
        "name='ly'\n",
        "name1='ing'\n",
        "\n",
        "if name in strg:\n",
        "  print(\"String contains the character 'ly'\")\n",
        "  newstr=strg.replace(name,name1)\n",
        "  print(\"New string is\",newstr)\n",
        "if name1 in strg:\n",
        "  print(\"String contains the character 'ing'\")\n",
        "  newstr=strg.replace(name1,name)\n",
        "  print(\"New string is\",newstr)\n",
        "\n",
        "\n",
        "\n",
        "\n",
        "\n",
        "\n",
        "  \n"
      ],
      "execution_count": 0,
      "outputs": [
        {
          "output_type": "stream",
          "text": [
            "Enter the stringnaming\n",
            "String contains the character 'ing'\n",
            "New string is namly\n"
          ],
          "name": "stdout"
        }
      ]
    },
    {
      "cell_type": "code",
      "metadata": {
        "id": "PNhVHeDTCYfx",
        "colab_type": "code",
        "colab": {}
      },
      "source": [
        "## 3. Make a string with a sentence;Separate on space;Print each string with a '#'\n",
        "# eg:input :'I like tennis.'.\n",
        "# Output:'I#, like#,tennis# "
      ],
      "execution_count": 0,
      "outputs": []
    },
    {
      "cell_type": "code",
      "metadata": {
        "id": "gf0DgePuIHni",
        "colab_type": "code",
        "outputId": "095d233a-8163-4d79-bb62-62aabfa9dc46",
        "colab": {
          "base_uri": "https://localhost:8080/",
          "height": 53
        }
      },
      "source": [
        "st=input(\"Enter the strings\")\n",
        "if ' ' in st:\n",
        "  print(\"The space found\")\n",
        "  new=st.replace(' ','#')\n",
        "  print(\"The resultant string is\",new)\n",
        "if ' ' not in st: \n",
        "  print(\"The space do not exist in the string\")\n",
        "\n"
      ],
      "execution_count": 0,
      "outputs": [
        {
          "output_type": "stream",
          "text": [
            "Enter the stringsjay\n",
            "The space do not exist in the string\n"
          ],
          "name": "stdout"
        }
      ]
    },
    {
      "cell_type": "code",
      "metadata": {
        "id": "JZQWBZ6WIwQp",
        "colab_type": "code",
        "colab": {}
      },
      "source": [
        "## 4.Extract the string without 'wood',from the given string\n",
        "##eg:\n",
        "#input:'How much wood would a woodchuk chuck if a woodchookcould chuk wood\n",
        "#output:'How much would a chuk chuck if a chookcould chuk wood"
      ],
      "execution_count": 0,
      "outputs": []
    },
    {
      "cell_type": "code",
      "metadata": {
        "id": "6uS1gVOLMjOj",
        "colab_type": "code",
        "outputId": "806372cd-f13d-40c3-c0a0-67f6262c043c",
        "colab": {
          "base_uri": "https://localhost:8080/",
          "height": 53
        }
      },
      "source": [
        "st=input(\"Enter the string\")\n",
        "if 'wood' in st:\n",
        "  new=st.replace('wood','')\n",
        "  print(\"The resultant string is\",new)\n",
        "if 'wood' not in st:\n",
        "  print(\"The string don not have 'wood\")\n"
      ],
      "execution_count": 0,
      "outputs": [
        {
          "output_type": "stream",
          "text": [
            "Enter the stringHow much wood would a woodchuk if a woodchook could chuk wood\n",
            "The resultant string is How much  would a chuk if a chook could chuk \n"
          ],
          "name": "stdout"
        }
      ]
    },
    {
      "cell_type": "code",
      "metadata": {
        "id": "0HgVjFLSNPYi",
        "colab_type": "code",
        "colab": {}
      },
      "source": [
        "# 5. Input:'madam','minimum'\n",
        "# output:'ada','inimu'"
      ],
      "execution_count": 0,
      "outputs": []
    },
    {
      "cell_type": "code",
      "metadata": {
        "id": "yl8hHb0DN8KZ",
        "colab_type": "code",
        "outputId": "a7429392-f26e-4e9c-e86c-f3511ae64ef7",
        "colab": {
          "base_uri": "https://localhost:8080/",
          "height": 53
        }
      },
      "source": [
        "st=input(\"Enter the string\")\n",
        "st1=st[1:len(st)-1]\n",
        "print(\"The resultant string is\",st1)"
      ],
      "execution_count": 0,
      "outputs": [
        {
          "output_type": "stream",
          "text": [
            "Enter the stringHar\n",
            "The resultant string is a\n"
          ],
          "name": "stdout"
        }
      ]
    },
    {
      "cell_type": "code",
      "metadata": {
        "id": "2czm6vdPPwtm",
        "colab_type": "code",
        "colab": {}
      },
      "source": [
        "#Input:'today's news:trump comes to gujrat'\n",
        "#output:'today's news:TRUMP comes to GUJRAT'"
      ],
      "execution_count": 0,
      "outputs": []
    },
    {
      "cell_type": "code",
      "metadata": {
        "id": "Lpj4FIEFQR-S",
        "colab_type": "code",
        "outputId": "7d916dd4-a111-4147-e249-b7db4f4c3c1f",
        "colab": {
          "base_uri": "https://localhost:8080/",
          "height": 35
        }
      },
      "source": [
        "st=\"today's news:trump comes to gujrat'\"\n",
        "st1=st.replace('trump','TRUMP')\n",
        "st2=st1.replace('gujrat',\"GUJRAT\")\n",
        "print(st2)\n",
        "  \n"
      ],
      "execution_count": 0,
      "outputs": [
        {
          "output_type": "stream",
          "text": [
            "today's news:TRUMP comes to GUJRAT'\n"
          ],
          "name": "stdout"
        }
      ]
    },
    {
      "cell_type": "code",
      "metadata": {
        "id": "9Z3bJcNNR_mm",
        "colab_type": "code",
        "colab": {}
      },
      "source": [
        "# 8. In a sample string add '*' in the middle of the string\n"
      ],
      "execution_count": 0,
      "outputs": []
    },
    {
      "cell_type": "code",
      "metadata": {
        "id": "geWx-kMnTw2c",
        "colab_type": "code",
        "outputId": "f5392e6c-8afc-486a-e439-3d0838b10794",
        "colab": {
          "base_uri": "https://localhost:8080/",
          "height": 53
        }
      },
      "source": [
        "st=input(\"Enter the string\")\n",
        "print(\"*\".join(st))"
      ],
      "execution_count": 0,
      "outputs": [
        {
          "output_type": "stream",
          "text": [
            "Enter the stringjay\n",
            "j*a*y\n"
          ],
          "name": "stdout"
        }
      ]
    },
    {
      "cell_type": "code",
      "metadata": {
        "id": "9PJeBjNeUdQR",
        "colab_type": "code",
        "colab": {}
      },
      "source": [
        "jay\n"
      ],
      "execution_count": 0,
      "outputs": []
    },
    {
      "cell_type": "code",
      "metadata": {
        "id": "vDALbqGqZmhM",
        "colab_type": "code",
        "colab": {}
      },
      "source": [
        "# 9. Create a string by adding the replicas:\n",
        "# input:'que'\n",
        "#output:'quequeque'"
      ],
      "execution_count": 0,
      "outputs": []
    },
    {
      "cell_type": "code",
      "metadata": {
        "id": "l0v0uKzPZ8_k",
        "colab_type": "code",
        "outputId": "edd1c893-8116-485c-8c1f-bc059da943ac",
        "colab": {
          "base_uri": "https://localhost:8080/",
          "height": 53
        }
      },
      "source": [
        "st=input(\"Enter the string\")\n",
        "st1=st*3\n",
        "print(st1)"
      ],
      "execution_count": 0,
      "outputs": [
        {
          "output_type": "stream",
          "text": [
            "Enter the stringque\n",
            "quequeque\n"
          ],
          "name": "stdout"
        }
      ]
    },
    {
      "cell_type": "code",
      "metadata": {
        "id": "V532TywUaMAO",
        "colab_type": "code",
        "colab": {}
      },
      "source": [
        "# 10. In a string convert the string lower case into upper case and vice Versa\n",
        "#input:'Hi thERe'\n",
        "#output:'hI THereE'"
      ],
      "execution_count": 0,
      "outputs": []
    },
    {
      "cell_type": "code",
      "metadata": {
        "id": "5plecxj0a0DJ",
        "colab_type": "code",
        "outputId": "7c3cfe15-6fc6-4cac-9eee-57e435b0c60c",
        "colab": {
          "base_uri": "https://localhost:8080/",
          "height": 53
        }
      },
      "source": [
        "st=input(\"Enter the string\")\n",
        "st1=st.swapcase()\n",
        "print(st1)\n"
      ],
      "execution_count": 0,
      "outputs": [
        {
          "output_type": "stream",
          "text": [
            "Enter the stringHi You There\n",
            "hI yOU tHERE\n"
          ],
          "name": "stdout"
        }
      ]
    },
    {
      "cell_type": "code",
      "metadata": {
        "id": "uJdTwvSEbdIB",
        "colab_type": "code",
        "colab": {}
      },
      "source": [
        "ASCII# If the string is digit,print its binary else, print its ASCII code\n"
      ],
      "execution_count": 0,
      "outputs": []
    },
    {
      "cell_type": "code",
      "metadata": {
        "id": "qjQzvfSe6wn5",
        "colab_type": "code",
        "colab": {}
      },
      "source": [
        "st=input(\"Enter\")\n",
        "if((st>='a' and st<='z') or (st>='A' and st<='Z')):\n",
        "  print(\"The given input is Alphabet\")\n",
        "  print(\"The ASCII value of corresponding Alphabet\",ord(st))\n",
        "elif(st>='0' or st<='9'):\n",
        "  print(\"The given input is Number\")\n",
        "  st1=int(st)\n",
        "  print(\"The binary value of corresponding number\",bin(st1))\n",
        "\n"
      ],
      "execution_count": 0,
      "outputs": []
    },
    {
      "cell_type": "code",
      "metadata": {
        "id": "zV0meh_167lY",
        "colab_type": "code",
        "colab": {}
      },
      "source": [
        ""
      ],
      "execution_count": 0,
      "outputs": []
    }
  ]
}