{
  "nbformat": 4,
  "nbformat_minor": 0,
  "metadata": {
    "colab": {
      "name": "Python Training Assignment.ipynb",
      "provenance": [],
      "authorship_tag": "ABX9TyOdi8wcXWCQU+FOGfQf/5no",
      "include_colab_link": true
    },
    "kernelspec": {
      "name": "python3",
      "display_name": "Python 3"
    }
  },
  "cells": [
    {
      "cell_type": "markdown",
      "metadata": {
        "id": "view-in-github",
        "colab_type": "text"
      },
      "source": [
        "<a href=\"https://colab.research.google.com/github/jchaudhary559790/Readcsv/blob/master/Python_Training_Assignment.ipynb\" target=\"_parent\"><img src=\"https://colab.research.google.com/assets/colab-badge.svg\" alt=\"Open In Colab\"/></a>"
      ]
    },
    {
      "cell_type": "markdown",
      "metadata": {
        "id": "Jfse70ipnOAS",
        "colab_type": "text"
      },
      "source": [
        "Program to find the area of a Rectangle\n",
        "![alt text](https://)"
      ]
    },
    {
      "cell_type": "code",
      "metadata": {
        "id": "WYDSdsNfnVzx",
        "colab_type": "code",
        "colab": {
          "base_uri": "https://localhost:8080/",
          "height": 35
        },
        "outputId": "8852023c-aa89-4c04-82d6-54f3f421bb0a"
      },
      "source": [
        "l=6\n",
        "b=7\n",
        "Area=l*b\n",
        "print(\"Area of a Rectangle is\",Area)"
      ],
      "execution_count": 1,
      "outputs": [
        {
          "output_type": "stream",
          "text": [
            "Area of a Rectangle is 42\n"
          ],
          "name": "stdout"
        }
      ]
    },
    {
      "cell_type": "markdown",
      "metadata": {
        "id": "hmWqNI1snmKb",
        "colab_type": "text"
      },
      "source": [
        "Program to find the area of square"
      ]
    },
    {
      "cell_type": "code",
      "metadata": {
        "id": "WlZW6qpXnvji",
        "colab_type": "code",
        "colab": {
          "base_uri": "https://localhost:8080/",
          "height": 35
        },
        "outputId": "4ab6f381-ce61-4267-aa7c-536f7312c0cc"
      },
      "source": [
        "s=10\n",
        "area=s*s\n",
        "print(\"Area of square is\",area)"
      ],
      "execution_count": 3,
      "outputs": [
        {
          "output_type": "stream",
          "text": [
            "Area of square is 100\n"
          ],
          "name": "stdout"
        }
      ]
    },
    {
      "cell_type": "markdown",
      "metadata": {
        "id": "y6jaS4wrn9cu",
        "colab_type": "text"
      },
      "source": [
        "Program to find the Area of Triangle"
      ]
    },
    {
      "cell_type": "code",
      "metadata": {
        "id": "n7iHWIxLoLSl",
        "colab_type": "code",
        "colab": {
          "base_uri": "https://localhost:8080/",
          "height": 35
        },
        "outputId": "e33f6f58-c1d8-4d81-ff8f-ab8aad277c3d"
      },
      "source": [
        "b=10 # base\n",
        "h=12 #height\n",
        "a=1/2*b*h\n",
        "print(\"Area of triangle is\",a)"
      ],
      "execution_count": 4,
      "outputs": [
        {
          "output_type": "stream",
          "text": [
            "Area of triangle is 60.0\n"
          ],
          "name": "stdout"
        }
      ]
    },
    {
      "cell_type": "markdown",
      "metadata": {
        "id": "FjQpD4kFo5tJ",
        "colab_type": "text"
      },
      "source": [
        "Program to convert temparature from Celcious to Fahrenheit\n",
        "\n",
        "\n"
      ]
    },
    {
      "cell_type": "code",
      "metadata": {
        "id": "krmf2ZkVpeEq",
        "colab_type": "code",
        "colab": {
          "base_uri": "https://localhost:8080/",
          "height": 35
        },
        "outputId": "e33d8be4-8836-4736-e57f-d79e277f8e7a"
      },
      "source": [
        "c=15 # Celcious\n",
        "f=(9/5)*c+32 # fahrenheit\n",
        "print(\"The conversion is\",f)"
      ],
      "execution_count": 6,
      "outputs": [
        {
          "output_type": "stream",
          "text": [
            "The conversion is 59.0\n"
          ],
          "name": "stdout"
        }
      ]
    },
    {
      "cell_type": "code",
      "metadata": {
        "id": "lwcfzhz3pCQZ",
        "colab_type": "code",
        "colab": {}
      },
      "source": [
        ""
      ],
      "execution_count": 0,
      "outputs": []
    }
  ]
}