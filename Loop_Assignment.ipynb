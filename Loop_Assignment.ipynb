{
  "nbformat": 4,
  "nbformat_minor": 0,
  "metadata": {
    "colab": {
      "name": "Loop Assignment.ipynb",
      "provenance": [],
      "authorship_tag": "ABX9TyPk1UU2N+5H0SvbDrRQePNo",
      "include_colab_link": true
    },
    "kernelspec": {
      "name": "python3",
      "display_name": "Python 3"
    }
  },
  "cells": [
    {
      "cell_type": "markdown",
      "metadata": {
        "id": "view-in-github",
        "colab_type": "text"
      },
      "source": [
        "<a href=\"https://colab.research.google.com/github/jchaudhary559790/Readcsv/blob/master/Loop_Assignment.ipynb\" target=\"_parent\"><img src=\"https://colab.research.google.com/assets/colab-badge.svg\" alt=\"Open In Colab\"/></a>"
      ]
    },
    {
      "cell_type": "code",
      "metadata": {
        "id": "jC9YIDdwKxUa",
        "colab_type": "code",
        "outputId": "d07f0171-0695-43bb-87fd-dc27eabb4d7b",
        "colab": {
          "base_uri": "https://localhost:8080/",
          "height": 53
        }
      },
      "source": [
        "#1. Write a Python program that accepts a word from the user and reverse it.Sample word: DATAFOLKZ\n",
        "str=input(\"Enter the word\")\n",
        "print(\"The reverse of the word is\",str[::-1])"
      ],
      "execution_count": 0,
      "outputs": [
        {
          "output_type": "stream",
          "text": [
            "Enter the wordDATAFOLKZ\n",
            "The reverse of the word is ZKLOFATAD\n"
          ],
          "name": "stdout"
        }
      ]
    },
    {
      "cell_type": "code",
      "metadata": {
        "id": "spDP4X4hMQxq",
        "colab_type": "code",
        "outputId": "d9979384-9267-49b8-a98d-6d0f6e1d8a57",
        "colab": {
          "base_uri": "https://localhost:8080/",
          "height": 35
        }
      },
      "source": [
        "#2 Write a Python program that prints all the numbers from 0 to 6 except 3 and 6.\n",
        "#Note:- Use 'continue' statement.\n",
        "#Expected Output : 0 1 2 4 5\n",
        "for x in range(6):\n",
        "  if(x==3 or x==6):\n",
        "    continue\n",
        "  print(x,end=' ')  \n"
      ],
      "execution_count": 0,
      "outputs": [
        {
          "output_type": "stream",
          "text": [
            "0 1 2 4 5 "
          ],
          "name": "stdout"
        }
      ]
    },
    {
      "cell_type": "code",
      "metadata": {
        "id": "ODy19HmqLHLU",
        "colab_type": "code",
        "outputId": "ba2ca4cc-9579-407c-aeff-4fd0b8b8ea3c",
        "colab": {
          "base_uri": "https://localhost:8080/",
          "height": 467
        }
      },
      "source": [
        "#3. Write a program that prints the numbers ranging from 1 to 50.But for\n",
        "#multiples of 3, print \"Fizz\" instead of the number and for the multiples of 5,\n",
        "#print \"Buzz.\" For numbers which are multiples of both 3 and 5, print\n",
        "#\"FizzBuzz\"\n",
        "for x in range(1,50):\n",
        "  if x % 3==0 :\n",
        "    print(x,\"Fizz\")\n",
        "  elif x % 5==0 :\n",
        "    print(x,\"Buzz\")\n",
        "for x in range(1,50):  \n",
        "  if x % 3==0 and x % 5==0 :\n",
        "    print(x,\"BizzBuzz\")   \n",
        "\n",
        "\n"
      ],
      "execution_count": 0,
      "outputs": [
        {
          "output_type": "stream",
          "text": [
            "3 Fizz\n",
            "5 Buzz\n",
            "6 Fizz\n",
            "9 Fizz\n",
            "10 Buzz\n",
            "12 Fizz\n",
            "15 Fizz\n",
            "18 Fizz\n",
            "20 Buzz\n",
            "21 Fizz\n",
            "24 Fizz\n",
            "25 Buzz\n",
            "27 Fizz\n",
            "30 Fizz\n",
            "33 Fizz\n",
            "35 Buzz\n",
            "36 Fizz\n",
            "39 Fizz\n",
            "40 Buzz\n",
            "42 Fizz\n",
            "45 Fizz\n",
            "48 Fizz\n",
            "15 BizzBuzz\n",
            "30 BizzBuzz\n",
            "45 BizzBuzz\n"
          ],
          "name": "stdout"
        }
      ]
    },
    {
      "cell_type": "code",
      "metadata": {
        "id": "eRRTb6oWPIW9",
        "colab_type": "code",
        "outputId": "f8a1ce05-5495-43a7-f09f-f18fbda9bdcb",
        "colab": {
          "base_uri": "https://localhost:8080/",
          "height": 161
        }
      },
      "source": [
        "#4. Write a Python program that prints each item and its corresponding type from the following list.\n",
        "#Sample List :- datalist = [1452, 11.23, 1+2j, True, 'datafolkz', (0, -1), [5, 12],{\"class\":'V', \"section\":'A'}]\n",
        "datalist=[1452, 11.23, 1+2j, True, 'datafolkz', (0, -1), [5, 12],{\"class\":'V', \"section\":'A'}]\n",
        "for i in datalist:\n",
        "  print(i,\"is type of\",type(i))\n"
      ],
      "execution_count": 0,
      "outputs": [
        {
          "output_type": "stream",
          "text": [
            "1452 is type of <class 'int'>\n",
            "11.23 is type of <class 'float'>\n",
            "(1+2j) is type of <class 'complex'>\n",
            "True is type of <class 'bool'>\n",
            "datafolkz is type of <class 'str'>\n",
            "(0, -1) is type of <class 'tuple'>\n",
            "[5, 12] is type of <class 'list'>\n",
            "{'class': 'V', 'section': 'A'} is type of <class 'dict'>\n"
          ],
          "name": "stdout"
        }
      ]
    },
    {
      "cell_type": "code",
      "metadata": {
        "id": "LwQgZZ5fZfGG",
        "colab_type": "code",
        "colab": {}
      },
      "source": [
        "#5. Write a Python program to convert month name to a number of days."
      ],
      "execution_count": 0,
      "outputs": []
    },
    {
      "cell_type": "code",
      "metadata": {
        "id": "mjWjrNikaeEh",
        "colab_type": "code",
        "outputId": "66379008-aece-49fa-c53e-e12b486fd70d",
        "colab": {
          "base_uri": "https://localhost:8080/",
          "height": 71
        }
      },
      "source": [
        "print(\"List of Month:January,February,March,April,May,June,July,August,September,October,November,December\")\n",
        "month=input(\"Enter the month Name as specified above\")\n",
        "mon1='February'\n",
        "mon2=['January','March','May','July','September','November']\n",
        "mon3=['April','June','August','October','December']\n",
        "if month==mon1:\n",
        "  print(\"The number of days is 28\")\n",
        "elif month in mon2:\n",
        "  print(\"number of Days is 31\")\n",
        "elif month in mon3:\n",
        "  print(\"Number of days is 30\")"
      ],
      "execution_count": 0,
      "outputs": [
        {
          "output_type": "stream",
          "text": [
            "List of Month:January,February,March,April,May,June,July,August,September,October,November,December\n",
            "Enter the month Name as specified aboveOctober\n",
            "Number of days is 30\n"
          ],
          "name": "stdout"
        }
      ]
    },
    {
      "cell_type": "code",
      "metadata": {
        "id": "wnjbX1-gb4Ki",
        "colab_type": "code",
        "outputId": "015097b2-0d44-4edc-96a6-95dada8f30d5",
        "colab": {
          "base_uri": "https://localhost:8080/",
          "height": 71
        }
      },
      "source": [
        "#6. Write a Python program to sum of two given integers. However, if the sum is between 15 to 20 it will return 20.\n",
        "num1=int(input(\"Enter the first number\"))\n",
        "num2=int(input(\"Enter the 2nd number\"))\n",
        "num3=num1+num2\n",
        "if num3 >= 15 and num3 <=20:\n",
        "  print(20)\n",
        "else:\n",
        "  print(num3)\n"
      ],
      "execution_count": 0,
      "outputs": [
        {
          "output_type": "stream",
          "text": [
            "Enter the first number13\n",
            "Enter the 2nd number2\n",
            "20\n"
          ],
          "name": "stdout"
        }
      ]
    },
    {
      "cell_type": "code",
      "metadata": {
        "id": "DtHGt7BefV_C",
        "colab_type": "code",
        "colab": {}
      },
      "source": [
        "5\n"
      ],
      "execution_count": 0,
      "outputs": []
    },
    {
      "cell_type": "code",
      "metadata": {
        "id": "dRFp5EQSfobr",
        "colab_type": "code",
        "outputId": "6d5adc60-a21a-4a2d-dc02-80c54099c4f0",
        "colab": {
          "base_uri": "https://localhost:8080/",
          "height": 53
        }
      },
      "source": [
        "#7. Write a Python program to check whether an alphabet is a vowel or consonant.\n",
        "ch=input(\"Enter the Character\")\n",
        "ch1=['a','e','i','o','u','A','E','I','O','U']\n",
        "if ch in ch1:\n",
        "  print(\"%s character is Vowel\" %ch)\n",
        "else: \n",
        "  print(\"%s character is Consonant\" %ch) \n"
      ],
      "execution_count": 0,
      "outputs": [
        {
          "output_type": "stream",
          "text": [
            "Enter the CharacterF\n",
            "F character is Consonant\n"
          ],
          "name": "stdout"
        }
      ]
    },
    {
      "cell_type": "code",
      "metadata": {
        "id": "dD2iDYRehBfr",
        "colab_type": "code",
        "outputId": "24bcf9c2-610e-438b-8404-9e45b568e225",
        "colab": {
          "base_uri": "https://localhost:8080/",
          "height": 89
        }
      },
      "source": [
        "#9. Write a Python program to check a triangle is equilateral, isosceles or scalene.\n",
        "a=int(input(\"Enter the 1st side of a triangle\"))\n",
        "b=int(input(\"Enter the 2nd side of a triangle\"))\n",
        "c=int(input(\"Enter the 3rd side of a triangle\"))\n",
        "if a==b==c:\n",
        "  print(\"%d,%d,%d sides are equilateral triangle\"%(a,b,c))\n",
        "elif not a==b==c:\n",
        "  print(\"%d,%d,%d sides of traingle are Scalene triangle\"%(a,b,c))\n",
        "else:\n",
        "  print(\"%d,%d,%d sides of traingle are Isosceles triangle\"%(a,b,c))\n",
        "  "
      ],
      "execution_count": 0,
      "outputs": [
        {
          "output_type": "stream",
          "text": [
            "Enter the 1st side of a triangle2\n",
            "Enter the 2nd side of a triangle2\n",
            "Enter the 3rd side of a triangle3\n",
            "2,2,3 sides of traingle are Scalene triangle\n"
          ],
          "name": "stdout"
        }
      ]
    },
    {
      "cell_type": "code",
      "metadata": {
        "id": "Ek99F174y_Wu",
        "colab_type": "code",
        "outputId": "b742bb4d-b728-42a6-9fc6-2801cab0dc67",
        "colab": {
          "base_uri": "https://localhost:8080/",
          "height": 71
        }
      },
      "source": [
        "#10.Take values of length and breadth of a rectangle from user and check if it is square or not.\n",
        "a=int(input(\"Enter the lenght side of a rectangle\"))\n",
        "b=int(input(\"Enter the breadth side of a rectangle\"))\n",
        "if a==b:\n",
        "  print(\"%d,%d sides of rectangle is square\"%(a,b))\n",
        "else: \n",
        "  print(\"%d,%d sides of rectangle is not square\"%(a,b)) \n"
      ],
      "execution_count": 0,
      "outputs": [
        {
          "output_type": "stream",
          "text": [
            "Enter the lenght side of a rectangle2\n",
            "Enter the breadth side of a rectangle3\n",
            "2,3 sides of rectangle is not square\n"
          ],
          "name": "stdout"
        }
      ]
    },
    {
      "cell_type": "code",
      "metadata": {
        "id": "JB1PbGnX1v1T",
        "colab_type": "code",
        "colab": {}
      },
      "source": [
        "2\n"
      ],
      "execution_count": 0,
      "outputs": []
    }
  ]
}