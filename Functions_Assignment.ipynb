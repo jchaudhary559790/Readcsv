{
  "nbformat": 4,
  "nbformat_minor": 0,
  "metadata": {
    "colab": {
      "name": "Functions Assignment.ipynb",
      "provenance": [],
      "authorship_tag": "ABX9TyP2wMYCoZzE1CbE1V5JzYYd",
      "include_colab_link": true
    },
    "kernelspec": {
      "name": "python3",
      "display_name": "Python 3"
    }
  },
  "cells": [
    {
      "cell_type": "markdown",
      "metadata": {
        "id": "view-in-github",
        "colab_type": "text"
      },
      "source": [
        "<a href=\"https://colab.research.google.com/github/jchaudhary559790/Readcsv/blob/master/Functions_Assignment.ipynb\" target=\"_parent\"><img src=\"https://colab.research.google.com/assets/colab-badge.svg\" alt=\"Open In Colab\"/></a>"
      ]
    },
    {
      "cell_type": "code",
      "metadata": {
        "id": "UMNfyGB39VxJ",
        "colab_type": "code",
        "outputId": "bb9ebb40-4ada-490e-d5a3-6415caebda70",
        "colab": {
          "base_uri": "https://localhost:8080/",
          "height": 89
        }
      },
      "source": [
        "###1.1.\tWrite a Python function to find the Max of three numbers.\n",
        "def max(a,b,c):\n",
        "  if a>=b and a>=c:\n",
        "    largest=a\n",
        "  elif b>=a and b>=c:\n",
        "     largest=b\n",
        "  else:\n",
        "     largest=c\n",
        "  return largest\n",
        "a=int(input(\"Enter the valuse of a\"))  \n",
        "b=int(input(\"Enter the valuse of b\"))\n",
        "c=int(input(\"Enter the valuse of c\"))  \n",
        "print(\"The largest number is\",max(a,b,c))   \n",
        "\n"
      ],
      "execution_count": 0,
      "outputs": [
        {
          "output_type": "stream",
          "text": [
            "Enter the valuse of a100\n",
            "Enter the valuse of b30\n",
            "Enter the valuse of c50\n",
            "The largest number is 100\n"
          ],
          "name": "stdout"
        }
      ]
    },
    {
      "cell_type": "code",
      "metadata": {
        "id": "vOmt2EeNALJZ",
        "colab_type": "code",
        "outputId": "547febdc-54f1-4b14-8641-ade3751c4c35",
        "colab": {
          "base_uri": "https://localhost:8080/",
          "height": 125
        }
      },
      "source": [
        "#2.\tWrite a Python function to sum all the numbers in a list.\n",
        "lst=[]\n",
        "num=int(input(\"How many numbers\"))\n",
        "for n in range(num):\n",
        "  numbers=int(input(\"Enter number\"))\n",
        "  lst.append(numbers)\n",
        "print(\"The sum of number is\",sum(lst))  \n",
        " \n",
        "  \n"
      ],
      "execution_count": 0,
      "outputs": [
        {
          "output_type": "stream",
          "text": [
            "How many numbers4\n",
            "Enter number1\n",
            "Enter number2\n",
            "Enter number3\n",
            "Enter number4\n",
            "The sum of number is 10\n"
          ],
          "name": "stdout"
        }
      ]
    },
    {
      "cell_type": "code",
      "metadata": {
        "id": "mGVkcZwYDwlo",
        "colab_type": "code",
        "colab": {}
      },
      "source": [
        "3\n"
      ],
      "execution_count": 0,
      "outputs": []
    },
    {
      "cell_type": "code",
      "metadata": {
        "id": "j-cZa9g6EH4r",
        "colab_type": "code",
        "outputId": "fa826bf5-0314-4dd4-da41-1557417562d3",
        "colab": {
          "base_uri": "https://localhost:8080/",
          "height": 35
        }
      },
      "source": [
        "#3.\tWrite a Python function to multiply all the numbers in a list.\n",
        "def multiplyList(myList) : \n",
        "    result = 1\n",
        "    for x in myList: \n",
        "         result = result * x  \n",
        "    return result  \n",
        "      \n",
        "list1 = [8, 2, 3, -1, 7]  \n",
        "print(multiplyList(list1))    \n"
      ],
      "execution_count": 0,
      "outputs": [
        {
          "output_type": "stream",
          "text": [
            "-336\n"
          ],
          "name": "stdout"
        }
      ]
    },
    {
      "cell_type": "code",
      "metadata": {
        "id": "5stvU0MyG_c8",
        "colab_type": "code",
        "outputId": "5fc71f80-b407-43e6-92d4-2fdfa1446c10",
        "colab": {
          "base_uri": "https://localhost:8080/",
          "height": 53
        }
      },
      "source": [
        "#4.\tWrite a Python program to reverse a string. \n",
        "str=input(\"Enter the string\")\n",
        "print(\"The reverse of the string is\",str[::-1])"
      ],
      "execution_count": 0,
      "outputs": [
        {
          "output_type": "stream",
          "text": [
            "Enter the string1234abcd\n",
            "The reverse of the string is dcba4321\n"
          ],
          "name": "stdout"
        }
      ]
    },
    {
      "cell_type": "code",
      "metadata": {
        "id": "hL_xuk2KI1HX",
        "colab_type": "code",
        "colab": {}
      },
      "source": [
        "Jay\n"
      ],
      "execution_count": 0,
      "outputs": []
    },
    {
      "cell_type": "code",
      "metadata": {
        "id": "_G-Nx783JVCL",
        "colab_type": "code",
        "outputId": "6d74f42e-f61b-4ab6-c379-341f5daf8c37",
        "colab": {
          "base_uri": "https://localhost:8080/",
          "height": 53
        }
      },
      "source": [
        "#5.\tWrite a Python function to calculate the factorial of a number (a non-negative integer). The function accepts the number as an argument.\n",
        "def factorial(n):\n",
        "  if n==0:\n",
        "    return 1\n",
        "  else:\n",
        "    return n*factorial(n-1)  \n",
        "n=int(input(\"Inter the number for factorial calculation\"))\n",
        "print(factorial(n))   "
      ],
      "execution_count": 0,
      "outputs": [
        {
          "output_type": "stream",
          "text": [
            "Inter the number for factorial calculation3\n",
            "6\n"
          ],
          "name": "stdout"
        }
      ]
    },
    {
      "cell_type": "code",
      "metadata": {
        "id": "jUXo_nqdKQuB",
        "colab_type": "code",
        "outputId": "4a0406cd-b8f4-444f-bddc-4aeccb46abb4",
        "colab": {
          "base_uri": "https://localhost:8080/",
          "height": 53
        }
      },
      "source": [
        "#6.\tWrite a Python function to check whether a number is in a given range.\n",
        "def test_range(n):\n",
        "  if n in range(1,20):\n",
        "    print(\"Number is in the range\")\n",
        "  else :\n",
        "    print(\"number is not in the range\")\n",
        "print(test_range(21))     \n"
      ],
      "execution_count": 0,
      "outputs": [
        {
          "output_type": "stream",
          "text": [
            "number is not in the range\n",
            "None\n"
          ],
          "name": "stdout"
        }
      ]
    },
    {
      "cell_type": "code",
      "metadata": {
        "id": "458pFSgGMRzD",
        "colab_type": "code",
        "outputId": "8278640d-60c9-4d19-d4e7-19d9cfc6b6b3",
        "colab": {
          "base_uri": "https://localhost:8080/",
          "height": 107
        }
      },
      "source": [
        "#7.\tWrite a Python function that accepts a string and calculate the number of upper case letters and lower case letters.\n",
        "string=input(\"Enter the string\")\n",
        "count1=0\n",
        "count2=0\n",
        "for i in string:\n",
        "  if (i.islower()):\n",
        "    count1=count1+1\n",
        "  elif (i.isupper()):\n",
        "    count2=count2+1\n",
        "print(\"The number of lowercase characters is:\")\n",
        "print(count1)\n",
        "print(\"The number of uppercase characters is:\")\n",
        "print(count2)      \n",
        "\n"
      ],
      "execution_count": 0,
      "outputs": [
        {
          "output_type": "stream",
          "text": [
            "Enter the stringJayRam\n",
            "The number of lowercase characters is:\n",
            "4\n",
            "The number of uppercase characters is:\n",
            "2\n"
          ],
          "name": "stdout"
        }
      ]
    },
    {
      "cell_type": "code",
      "metadata": {
        "id": "1x-dMu-OAIrw",
        "colab_type": "code",
        "outputId": "7c53ba04-485c-4a8c-f38c-eb2cf2eeb115",
        "colab": {
          "base_uri": "https://localhost:8080/",
          "height": 53
        }
      },
      "source": [
        "# 8.\tWrite a Python function that takes a list and returns a new list with unique elements of the first list.\n",
        "#Sample List : [1,2,3,3,3,3,4,5]\n",
        "#Unique List : [1, 2, 3, 4, 5]\n",
        "my_list= [1,2,3,3,3,3,4,5]\n",
        "print(\"Original list\",my_list)\n",
        "my_list1=set(my_list)\n",
        "print(\"The new list is\",my_list1)"
      ],
      "execution_count": 0,
      "outputs": [
        {
          "output_type": "stream",
          "text": [
            "Original list [1, 2, 3, 3, 3, 3, 4, 5]\n",
            "The new list is {1, 2, 3, 4, 5}\n"
          ],
          "name": "stdout"
        }
      ]
    },
    {
      "cell_type": "code",
      "metadata": {
        "id": "AlOu0STGPp27",
        "colab_type": "code",
        "outputId": "b5a7101e-5b6e-469a-dcef-6d6738b85450",
        "colab": {
          "base_uri": "https://localhost:8080/",
          "height": 53
        }
      },
      "source": [
        "#9.\tWrite a Python function that takes a number as a parameter and check the number is prime or not\n",
        "def prime(n):\n",
        "  if n > 1:\n",
        "    for i in range(2,n//2):\n",
        "      if(n%i==0):\n",
        "        print(\"The number is not prime\")\n",
        "        break\n",
        "    else:\n",
        "      print(\"the number is prime number\")\n",
        "  else:\n",
        "    print(\"The number is not prime number\")     \n",
        "a=int(input(\"Enter the number to check the prime or not\"))\n",
        "prime(a)\n"
      ],
      "execution_count": 0,
      "outputs": [
        {
          "output_type": "stream",
          "text": [
            "Enter the number to check the prime or not45\n",
            "The number is not prime\n"
          ],
          "name": "stdout"
        }
      ]
    },
    {
      "cell_type": "code",
      "metadata": {
        "id": "odnn2wD0Tpag",
        "colab_type": "code",
        "outputId": "425a73b0-5d1d-48f5-e9d2-341dc4a2cbef",
        "colab": {
          "base_uri": "https://localhost:8080/",
          "height": 35
        }
      },
      "source": [
        "#10.\tWrite a Python program to print the even numbers from a given list. \n",
        "#Sample List: [1, 2, 3, 4, 5, 6, 7, 8, 9]\n",
        "#Expected Result : [2, 4, 6, 8]\n",
        "def is_even_num(l):\n",
        "    enum = []\n",
        "    for n in l:\n",
        "        if n % 2 == 0:\n",
        "            enum.append(n)\n",
        "    return enum\n",
        "print(is_even_num([1, 2, 3, 4, 5, 6, 7, 8, 9]))\n"
      ],
      "execution_count": 0,
      "outputs": [
        {
          "output_type": "stream",
          "text": [
            "[2, 4, 6, 8]\n"
          ],
          "name": "stdout"
        }
      ]
    },
    {
      "cell_type": "code",
      "metadata": {
        "id": "et8u55uabLaN",
        "colab_type": "code",
        "colab": {}
      },
      "source": [
        ""
      ],
      "execution_count": 0,
      "outputs": []
    }
  ]
}